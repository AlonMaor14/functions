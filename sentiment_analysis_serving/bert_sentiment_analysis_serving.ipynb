{
 "cells": [
  {
   "cell_type": "markdown",
   "metadata": {},
   "source": [
    "## BERT Based Sentiment Analysis Model Server\n",
    "The model used here, was trained with the concept of transfer learning  i.e. taking huggingface transformers pretrained BERT model and further training it on a custom dataset of reviews. this yields a sentiment analysis model based on the prior knowledge of BERT. \n",
    "The model server is given a list of texts and outputs a list of labels corresponding to its prediction.\n",
    "The labels express the sentiment of the writer towards the topic of the text:\n",
    "0 for negative sentiment, 1 for neutral and 2 for positive.\n",
    "\n",
    "The model file (~430 MB), can be downloaded to your local environment from: https://iguazio-sample-data.s3.amazonaws.com/models/model.pt"
   ]
  },
  {
   "cell_type": "markdown",
   "metadata": {},
   "source": [
    "## mlconfig"
   ]
  },
  {
   "cell_type": "code",
   "execution_count": 1,
   "metadata": {},
   "outputs": [],
   "source": [
    "%load_ext lab_black\n",
    "from mlrun import mlconf\n",
    "from bert_sentiment_analysis_serving import (\n",
    "    BertSentimentClassifier,\n",
    "    SentimentClassifierServing,\n",
    ")\n",
    "import os\n",
    "\n",
    "mlconf.dbpath = mlconf.dbpath or \"http://mlrun-api:8080\"\n",
    "mlconf.artifact_path = mlconf.artifact_path or f'{os.environ[\"HOME\"]}/artifacts'"
   ]
  },
  {
   "cell_type": "markdown",
   "metadata": {},
   "source": [
    "## Examples locally\n",
    "You may change model_dir to point at the path where model.pt file is saved"
   ]
  },
  {
   "cell_type": "code",
   "execution_count": 2,
   "metadata": {},
   "outputs": [],
   "source": [
    "model_dir = \"/User/demo_stocks/artifacts/models/bert_sentiment_analysis_model.pt\"\n",
    "model_server = SentimentClassifierServing(\"model-server\", model_dir=model_dir)\n",
    "model_server.load()"
   ]
  },
  {
   "cell_type": "markdown",
   "metadata": {},
   "source": [
    "### example 1\n",
    "Here we test a pretty straightforward example for positive sentiment."
   ]
  },
  {
   "cell_type": "code",
   "execution_count": 3,
   "metadata": {},
   "outputs": [],
   "source": [
    "output = model_server.predict(\n",
    "    {\n",
    "        \"instances\": [\n",
    "            \"I had a pleasure to work with such dedicated team. Looking forward to \\\n",
    "             cooperate with each and every one of them again.\"\n",
    "        ]\n",
    "    }\n",
    ")\n",
    "\n",
    "assert output[0] == 2"
   ]
  },
  {
   "cell_type": "markdown",
   "metadata": {},
   "source": [
    "### example 2\n",
    "Now we will test a couple more examples. These are arguably harder due to misleading words that express, on their own, an opposite sentiment comparing to the full text. "
   ]
  },
  {
   "cell_type": "code",
   "execution_count": 4,
   "metadata": {},
   "outputs": [],
   "source": [
    "output = model_server.predict(\n",
    "    {\n",
    "        \"instances\": [\n",
    "            \"This app is amazingly useless.\",\n",
    "            \"As much as I hate to admit it, the new added feature is surprisingly user friendly.\",\n",
    "        ]\n",
    "    }\n",
    ")\n",
    "\n",
    "assert output[0] == 0\n",
    "assert output[1] == 2"
   ]
  },
  {
   "cell_type": "markdown",
   "metadata": {},
   "source": [
    "## Remote activation\n",
    "Create a function object with custom specification."
   ]
  },
  {
   "cell_type": "code",
   "execution_count": 5,
   "metadata": {},
   "outputs": [],
   "source": [
    "from mlrun import new_model_server, mount_v3io\n",
    "import requests\n",
    "import yaml\n",
    "\n",
    "with open(\"item.yaml\") as item_file:\n",
    "    items = yaml.load(item_file, Loader=yaml.FullLoader)"
   ]
  },
  {
   "cell_type": "code",
   "execution_count": 6,
   "metadata": {},
   "outputs": [
    {
     "name": "stdout",
     "output_type": "stream",
     "text": [
      "> 2021-02-17 18:17:51,836 [info] function spec saved to path: bert_sentiment_analysis_serving.yaml\n"
     ]
    },
    {
     "data": {
      "text/plain": [
       "<mlrun.runtimes.function.RemoteRuntime at 0x7f40a11a4050>"
      ]
     },
     "execution_count": 6,
     "metadata": {},
     "output_type": "execute_result"
    }
   ],
   "source": [
    "fn = new_model_server(\n",
    "    name=items[\"name\"],\n",
    "    model_class=\"SentimentClassifierServing\",\n",
    "    filename=items[\"spec\"][\"filename\"],\n",
    ")\n",
    "\n",
    "fn.spec.description = items[\"description\"]\n",
    "fn.metadata.categories = items[\"categories\"]\n",
    "fn.metadata.labels = labels = items[\"labels\"]\n",
    "fn.spec.image = items[\"spec\"][\"image\"]\n",
    "fn.spec.requirements = [\"transformers==3.0.2\"]\n",
    "fn.spec.handler = items[\"spec\"][\"handler\"]\n",
    "fn.spec.max_replicas = 1\n",
    "fn.spec.readiness_timeout = 500\n",
    "fn.export(\"bert_sentiment_analysis_serving.yaml\")\n",
    "\n",
    "fn.add_model(\n",
    "    \"bert_classifier_v1\",\n",
    "    \"/User/demo_stocks/artifacts/models/bert_sentiment_analysis_model.pt\",\n",
    ")"
   ]
  },
  {
   "cell_type": "code",
   "execution_count": 7,
   "metadata": {},
   "outputs": [],
   "source": [
    "if \"V3IO_HOME\" in list(os.environ):\n",
    "    from mlrun import mount_v3io\n",
    "\n",
    "    fn.apply(mount_v3io())\n",
    "else:\n",
    "    # is you set up mlrun using the instructions at\n",
    "    # https://github.com/mlrun/mlrun/blob/master/hack/local/README.md\n",
    "    from mlrun.platforms import mount_pvc\n",
    "\n",
    "    fn.apply(mount_pvc(\"nfsvol\", \"nfsvol\", \"/home/joyan/data\"))"
   ]
  },
  {
   "cell_type": "code",
   "execution_count": 8,
   "metadata": {},
   "outputs": [
    {
     "name": "stdout",
     "output_type": "stream",
     "text": [
      "> 2021-02-17 18:17:51,929 [info] Starting remote function deploy\n",
      "2021-02-17 18:17:52  (info) Deploying function\n",
      "2021-02-17 18:17:52  (info) Building\n",
      "2021-02-17 18:17:52  (info) Staging files and preparing base images\n",
      "2021-02-17 18:17:52  (info) Building processor image\n",
      "2021-02-17 18:17:53  (info) Build complete\n",
      "Failed to deploy. Details:\n",
      "/opt/conda/lib/python3.7/site-packages/torch/cuda/__init__.py:52: UserWarning: CUDA initialization: Found no NVIDIA driver on your system. Please check that you have an NVIDIA GPU and installed a driver from http://www.nvidia.com/Download/index.aspx (Triggered internally at  /opt/conda/conda-bld/pytorch_1603729006826/work/c10/cuda/CUDAFunctions.cpp:100.)\n",
      "  return torch._C._cuda_getDeviceCount() > 0\n",
      "/opt/conda/lib/python3.7/site-packages/torch/cuda/__init__.py:52: UserWarning: CUDA initialization: Found no NVIDIA driver on your system. Please check that you have an NVIDIA GPU and installed a driver from http://www.nvidia.com/Download/index.aspx (Triggered internally at  /opt/conda/conda-bld/pytorch_1603729006826/work/c10/cuda/CUDAFunctions.cpp:100.)\n",
      "  return torch._C._cuda_getDeviceCount() > 0\n",
      "/opt/conda/lib/python3.7/site-packages/torch/cuda/__init__.py:52: UserWarning: CUDA initialization: Found no NVIDIA driver on your system. Please check that you have an NVIDIA GPU and installed a driver from http://www.nvidia.com/Download/index.aspx (Triggered internally at  /opt/conda/conda-bld/pytorch_1603729006826/work/c10/cuda/CUDAFunctions.cpp:100.)\n",
      "  return torch._C._cuda_getDeviceCount() > 0\n",
      "/opt/conda/lib/python3.7/site-packages/torch/cuda/__init__.py:52: UserWarning: CUDA initialization: Found no NVIDIA driver on your system. Please check that you have an NVIDIA GPU and installed a driver from http://www.nvidia.com/Download/index.aspx (Triggered internally at  /opt/conda/conda-bld/pytorch_1603729006826/work/c10/cuda/CUDAFunctions.cpp:100.)\n",
      "  return torch._C._cuda_getDeviceCount() > 0\n",
      "/opt/conda/lib/python3.7/site-packages/torch/cuda/__init__.py:52: UserWarning: CUDA initialization: Found no NVIDIA driver on your system. Please check that you have an NVIDIA GPU and installed a driver from http://www.nvidia.com/Download/index.aspx (Triggered internally at  /opt/conda/conda-bld/pytorch_1603729006826/work/c10/cuda/CUDAFunctions.cpp:100.)\n",
      "  return torch._C._cuda_getDeviceCount() > 0\n",
      "/opt/conda/lib/python3.7/site-packages/torch/cuda/__init__.py:52: UserWarning: CUDA initialization: Found no NVIDIA driver on your system. Please check that you have an NVIDIA GPU and installed a driver from http://www.nvidia.com/Download/index.aspx (Triggered internally at  /opt/conda/conda-bld/pytorch_1603729006826/work/c10/cuda/CUDAFunctions.cpp:100.)\n",
      "  return torch._C._cuda_getDeviceCount() > 0\n",
      "/opt/conda/lib/python3.7/site-packages/torch/cuda/__init__.py:52: UserWarning: CUDA initialization: Found no NVIDIA driver on your system. Please check that you have an NVIDIA GPU and installed a driver from http://www.nvidia.com/Download/index.aspx (Triggered internally at  /opt/conda/conda-bld/pytorch_1603729006826/work/c10/cuda/CUDAFunctions.cpp:100.)\n",
      "  return torch._C._cuda_getDeviceCount() > 0\n",
      "/opt/conda/lib/python3.7/site-packages/torch/cuda/__init__.py:52: UserWarning: CUDA initialization: Found no NVIDIA driver on your system. Please check that you have an NVIDIA GPU and installed a driver from http://www.nvidia.com/Download/index.aspx (Triggered internally at  /opt/conda/conda-bld/pytorch_1603729006826/work/c10/cuda/CUDAFunctions.cpp:100.)\n",
      "  return torch._C._cuda_getDeviceCount() > 0\n",
      "Downloading: 100%|██████████| 213k/213k [00:01<00:00, 126kB/s]  \n",
      "Downloading: 100%|██████████| 433/433 [00:00<00:00, 292kB/s]\n",
      "Downloading: 100%|██████████| 436M/436M [00:08<00:00, 53.6MB/s] \n",
      "Exception raised while running init_context [worker_id=\"0\"]\n",
      "Caught unhandled exception while initializing [err=\"Error(s) in loading state_dict for BertSentimentClassifier:\n",
      "\tMissing key(s) in state_dict: \"bert.embeddings.position_ids\". \" || traceback=\"Traceback (most recent call last):\n",
      "  File \"/opt/nuclio/_nuclio_wrapper.py\", line 350, in run_wrapper\n",
      "    args.trigger_name)\n",
      "  File \"/opt/nuclio/_nuclio_wrapper.py\", line 80, in __init__\n",
      "    getattr(entrypoint_module, 'init_context')(self._context)\n",
      "  File \"/opt/nuclio/bert_sentiment_analysis_serving.py\", line 51, in init_context\n",
      "    nuclio_init_hook(context, globals(), 'serving')\n",
      "  File \"/opt/conda/lib/python3.7/site-packages/mlrun/runtimes/nuclio.py\", line 29, in nuclio_init_hook\n",
      "    nuclio_serving_init(context, data)\n",
      "  File \"/opt/conda/lib/python3.7/site-packages/mlrun/serving/v1_serving.py\", line 136, in nuclio_serving_init\n",
      "    model.load()\n",
      "  File \"/opt/nuclio/bert_sentiment_analysis_serving.py\", line 36, in load\n",
      "    model.load_state_dict(torch.load(model_file, map_location=device))\n",
      "  File \"/opt/conda/lib/python3.7/site-packages/torch/nn/modules/module.py\", line 1052, in load_state_dict\n",
      "    self.__class__.__name__, \"\n",
      "\t\".join(error_msgs)))\n",
      "RuntimeError: Error(s) in loading state_dict for BertSentimentClassifier:\n",
      "\tMissing key(s) in state_dict: \"bert.embeddings.position_ids\". \n",
      "\" || worker_id=\"0\"]\n",
      "> 2021-02-17 18:18:56,994 [error] Nuclio function failed to deploy\n"
     ]
    },
    {
     "ename": "RunError",
     "evalue": "cannot deploy Failed to deploy. Details:\n/opt/conda/lib/python3.7/site-packages/torch/cuda/__init__.py:52: UserWarning: CUDA initialization: Found no NVIDIA driver on your system. Please check that you have an NVIDIA GPU and installed a driver from http://www.nvidia.com/Download/index.aspx (Triggered internally at  /opt/conda/conda-bld/pytorch_1603729006826/work/c10/cuda/CUDAFunctions.cpp:100.)\n  return torch._C._cuda_getDeviceCount() > 0\n/opt/conda/lib/python3.7/site-packages/torch/cuda/__init__.py:52: UserWarning: CUDA initialization: Found no NVIDIA driver on your system. Please check that you have an NVIDIA GPU and installed a driver from http://www.nvidia.com/Download/index.aspx (Triggered internally at  /opt/conda/conda-bld/pytorch_1603729006826/work/c10/cuda/CUDAFunctions.cpp:100.)\n  return torch._C._cuda_getDeviceCount() > 0\n/opt/conda/lib/python3.7/site-packages/torch/cuda/__init__.py:52: UserWarning: CUDA initialization: Found no NVIDIA driver on your system. Please check that you have an NVIDIA GPU and installed a driver from http://www.nvidia.com/Download/index.aspx (Triggered internally at  /opt/conda/conda-bld/pytorch_1603729006826/work/c10/cuda/CUDAFunctions.cpp:100.)\n  return torch._C._cuda_getDeviceCount() > 0\n/opt/conda/lib/python3.7/site-packages/torch/cuda/__init__.py:52: UserWarning: CUDA initialization: Found no NVIDIA driver on your system. Please check that you have an NVIDIA GPU and installed a driver from http://www.nvidia.com/Download/index.aspx (Triggered internally at  /opt/conda/conda-bld/pytorch_1603729006826/work/c10/cuda/CUDAFunctions.cpp:100.)\n  return torch._C._cuda_getDeviceCount() > 0\n/opt/conda/lib/python3.7/site-packages/torch/cuda/__init__.py:52: UserWarning: CUDA initialization: Found no NVIDIA driver on your system. Please check that you have an NVIDIA GPU and installed a driver from http://www.nvidia.com/Download/index.aspx (Triggered internally at  /opt/conda/conda-bld/pytorch_1603729006826/work/c10/cuda/CUDAFunctions.cpp:100.)\n  return torch._C._cuda_getDeviceCount() > 0\n/opt/conda/lib/python3.7/site-packages/torch/cuda/__init__.py:52: UserWarning: CUDA initialization: Found no NVIDIA driver on your system. Please check that you have an NVIDIA GPU and installed a driver from http://www.nvidia.com/Download/index.aspx (Triggered internally at  /opt/conda/conda-bld/pytorch_1603729006826/work/c10/cuda/CUDAFunctions.cpp:100.)\n  return torch._C._cuda_getDeviceCount() > 0\n/opt/conda/lib/python3.7/site-packages/torch/cuda/__init__.py:52: UserWarning: CUDA initialization: Found no NVIDIA driver on your system. Please check that you have an NVIDIA GPU and installed a driver from http://www.nvidia.com/Download/index.aspx (Triggered internally at  /opt/conda/conda-bld/pytorch_1603729006826/work/c10/cuda/CUDAFunctions.cpp:100.)\n  return torch._C._cuda_getDeviceCount() > 0\n/opt/conda/lib/python3.7/site-packages/torch/cuda/__init__.py:52: UserWarning: CUDA initialization: Found no NVIDIA driver on your system. Please check that you have an NVIDIA GPU and installed a driver from http://www.nvidia.com/Download/index.aspx (Triggered internally at  /opt/conda/conda-bld/pytorch_1603729006826/work/c10/cuda/CUDAFunctions.cpp:100.)\n  return torch._C._cuda_getDeviceCount() > 0\n\rDownloading:   0%|          | 0.00/213k [00:00<?, ?B/s]\rDownloading:   4%|▍         | 8.19k/213k [00:00<00:03, 59.0kB/s]\rDownloading:  10%|▉         | 20.5k/213k [00:00<00:02, 65.6kB/s]\rDownloading:  17%|█▋        | 36.9k/213k [00:00<00:02, 75.0kB/s]\rDownloading:  21%|██        | 45.1k/213k [00:00<00:02, 68.8kB/s]\rDownloading:  31%|███       | 65.5k/213k [00:00<00:01, 81.8kB/s]\rDownloading:  38%|███▊      | 81.9k/213k [00:00<00:01, 89.5kB/s]\rDownloading:  46%|████▌     | 98.3k/213k [00:00<00:01, 96.4kB/s]\rDownloading:  54%|█████▎    | 115k/213k [00:01<00:00, 102kB/s]  \rDownloading:  63%|██████▎   | 135k/213k [00:01<00:00, 112kB/s]\rDownloading:  71%|███████   | 152k/213k [00:01<00:00, 113kB/s]\rDownloading:  81%|████████  | 172k/213k [00:01<00:00, 121kB/s]\rDownloading:  90%|█████████ | 193k/213k [00:01<00:00, 127kB/s]\rDownloading: 100%|██████████| 213k/213k [00:01<00:00, 126kB/s]\n\rDownloading:   0%|          | 0.00/433 [00:00<?, ?B/s]\rDownloading: 100%|██████████| 433/433 [00:00<00:00, 292kB/s]\n\rDownloading:   0%|          | 0.00/436M [00:00<?, ?B/s]\rDownloading:   1%|          | 5.00M/436M [00:00<00:08, 50.0MB/s]\rDownloading:   2%|▏         | 10.3M/436M [00:00<00:08, 51.0MB/s]\rDownloading:   4%|▎         | 15.7M/436M [00:00<00:08, 51.7MB/s]\rDownloading:   5%|▍         | 21.1M/436M [00:00<00:07, 52.4MB/s]\rDownloading:   6%|▌         | 26.5M/436M [00:00<00:07, 52.8MB/s]\rDownloading:   7%|▋         | 31.9M/436M [00:00<00:07, 53.2MB/s]\rDownloading:   9%|▊         | 37.2M/436M [00:00<00:07, 53.3MB/s]\rDownloading:  10%|▉         | 42.6M/436M [00:00<00:07, 53.4MB/s]\rDownloading:  11%|█         | 48.0M/436M [00:00<00:07, 53.5MB/s]\rDownloading:  12%|█▏        | 53.4M/436M [00:01<00:07, 53.6MB/s]\rDownloading:  13%|█▎        | 58.7M/436M [00:01<00:07, 53.4MB/s]\rDownloading:  15%|█▍        | 64.0M/436M [00:01<00:06, 53.5MB/s]\rDownloading:  16%|█▌        | 69.4M/436M [00:01<00:06, 53.5MB/s]\rDownloading:  17%|█▋        | 74.8M/436M [00:01<00:06, 53.6MB/s]\rDownloading:  18%|█▊        | 80.2M/436M [00:01<00:06, 53.8MB/s]\rDownloading:  20%|█▉        | 85.6M/436M [00:01<00:06, 53.7MB/s]\rDownloading:  21%|██        | 90.9M/436M [00:01<00:06, 53.7MB/s]\rDownloading:  22%|██▏       | 96.3M/436M [00:01<00:06, 53.6MB/s]\rDownloading:  23%|██▎       | 102M/436M [00:01<00:06, 53.5MB/s] \rDownloading:  25%|██▍       | 107M/436M [00:02<00:06, 53.5MB/s]\rDownloading:  26%|██▌       | 112M/436M [00:02<00:06, 53.5MB/s]\rDownloading:  27%|██▋       | 118M/436M [00:02<00:05, 53.4MB/s]\rDownloading:  28%|██▊       | 123M/436M [00:02<00:05, 53.4MB/s]\rDownloading:  29%|██▉       | 128M/436M [00:02<00:05, 53.5MB/s]\rDownloading:  31%|███       | 134M/436M [00:02<00:05, 53.5MB/s]\rDownloading:  32%|███▏      | 139M/436M [00:02<00:05, 53.5MB/s]\rDownloading:  33%|███▎      | 144M/436M [00:02<00:05, 53.3MB/s]\rDownloading:  34%|███▍      | 150M/436M [00:02<00:05, 53.4MB/s]\rDownloading:  36%|███▌      | 155M/436M [00:02<00:05, 53.5MB/s]\rDownloading:  37%|███▋      | 161M/436M [00:03<00:05, 53.6MB/s]\rDownloading:  38%|███▊      | 166M/436M [00:03<00:05, 53.6MB/s]\rDownloading:  39%|███▉      | 171M/436M [00:03<00:04, 53.6MB/s]\rDownloading:  41%|████      | 177M/436M [00:03<00:04, 53.6MB/s]\rDownloading:  42%|████▏     | 182M/436M [00:03<00:04, 53.5MB/s]\rDownloading:  43%|████▎     | 187M/436M [00:03<00:04, 53.5MB/s]\rDownloading:  44%|████▍     | 193M/436M [00:03<00:04, 53.5MB/s]\rDownloading:  45%|████▌     | 198M/436M [00:03<00:04, 53.1MB/s]\rDownloading:  47%|████▋     | 203M/436M [00:03<00:04, 53.1MB/s]\rDownloading:  48%|████▊     | 209M/436M [00:03<00:04, 53.2MB/s]\rDownloading:  49%|████▉     | 214M/436M [00:04<00:04, 53.3MB/s]\rDownloading:  50%|█████     | 219M/436M [00:04<00:04, 53.3MB/s]\rDownloading:  52%|█████▏    | 225M/436M [00:04<00:03, 53.3MB/s]\rDownloading:  53%|█████▎    | 230M/436M [00:04<00:03, 53.4MB/s]\rDownloading:  54%|█████▍    | 236M/436M [00:04<00:03, 53.5MB/s]\rDownloading:  55%|█████▌    | 241M/436M [00:04<00:03, 53.5MB/s]\rDownloading:  57%|█████▋    | 246M/436M [00:04<00:03, 53.6MB/s]\rDownloading:  58%|█████▊    | 252M/436M [00:04<00:03, 53.6MB/s]\rDownloading:  59%|█████▉    | 257M/436M [00:04<00:03, 53.6MB/s]\rDownloading:  60%|██████    | 262M/436M [00:04<00:03, 53.6MB/s]\rDownloading:  61%|██████▏   | 268M/436M [00:05<00:03, 53.5MB/s]\rDownloading:  63%|██████▎   | 273M/436M [00:05<00:03, 53.6MB/s]\rDownloading:  64%|██████▍   | 278M/436M [00:05<00:02, 53.6MB/s]\rDownloading:  65%|██████▌   | 284M/436M [00:05<00:02, 53.7MB/s]\rDownloading:  66%|██████▋   | 289M/436M [00:05<00:02, 53.7MB/s]\rDownloading:  68%|██████▊   | 295M/436M [00:05<00:02, 53.7MB/s]\rDownloading:  69%|██████▉   | 300M/436M [00:05<00:02, 53.7MB/s]\rDownloading:  70%|███████   | 305M/436M [00:05<00:02, 53.7MB/s]\rDownloading:  71%|███████▏  | 311M/436M [00:05<00:02, 53.7MB/s]\rDownloading:  73%|███████▎  | 316M/436M [00:05<00:02, 53.7MB/s]\rDownloading:  74%|███████▍  | 321M/436M [00:06<00:02, 53.6MB/s]\rDownloading:  75%|███████▍  | 327M/436M [00:06<00:02, 53.5MB/s]\rDownloading:  76%|███████▌  | 332M/436M [00:06<00:01, 53.7MB/s]\rDownloading:  77%|███████▋  | 338M/436M [00:06<00:01, 53.8MB/s]\rDownloading:  79%|███████▊  | 343M/436M [00:06<00:01, 53.8MB/s]\rDownloading:  80%|███████▉  | 348M/436M [00:06<00:01, 53.8MB/s]\rDownloading:  81%|████████  | 354M/436M [00:06<00:01, 54.0MB/s]\rDownloading:  82%|████████▏ | 359M/436M [00:06<00:01, 53.9MB/s]\rDownloading:  84%|████████▎ | 365M/436M [00:06<00:01, 53.9MB/s]\rDownloading:  85%|████████▍ | 370M/436M [00:06<00:01, 53.3MB/s]\rDownloading:  86%|████████▌ | 375M/436M [00:07<00:01, 53.4MB/s]\rDownloading:  87%|████████▋ | 381M/436M [00:07<00:01, 53.5MB/s]\rDownloading:  89%|████████▊ | 386M/436M [00:07<00:00, 53.6MB/s]\rDownloading:  90%|████████▉ | 392M/436M [00:07<00:00, 53.6MB/s]\rDownloading:  91%|█████████ | 397M/436M [00:07<00:00, 53.6MB/s]\rDownloading:  92%|█████████▏| 402M/436M [00:07<00:00, 53.7MB/s]\rDownloading:  94%|█████████▎| 408M/436M [00:07<00:00, 53.8MB/s]\rDownloading:  95%|█████████▍| 413M/436M [00:07<00:00, 53.9MB/s]\rDownloading:  96%|█████████▌| 418M/436M [00:07<00:00, 53.9MB/s]\rDownloading:  97%|█████████▋| 424M/436M [00:07<00:00, 53.9MB/s]\rDownloading:  99%|█████████▊| 429M/436M [00:08<00:00, 53.9MB/s]\rDownloading: 100%|█████████▉| 435M/436M [00:08<00:00, 54.0MB/s]\rDownloading: 100%|██████████| 436M/436M [00:08<00:00, 53.6MB/s]\nException raised while running init_context [worker_id=\"0\"]\nCaught unhandled exception while initializing [err=\"Error(s) in loading state_dict for BertSentimentClassifier:\n\tMissing key(s) in state_dict: \"bert.embeddings.position_ids\". \" || traceback=\"Traceback (most recent call last):\n  File \"/opt/nuclio/_nuclio_wrapper.py\", line 350, in run_wrapper\n    args.trigger_name)\n  File \"/opt/nuclio/_nuclio_wrapper.py\", line 80, in __init__\n    getattr(entrypoint_module, 'init_context')(self._context)\n  File \"/opt/nuclio/bert_sentiment_analysis_serving.py\", line 51, in init_context\n    nuclio_init_hook(context, globals(), 'serving')\n  File \"/opt/conda/lib/python3.7/site-packages/mlrun/runtimes/nuclio.py\", line 29, in nuclio_init_hook\n    nuclio_serving_init(context, data)\n  File \"/opt/conda/lib/python3.7/site-packages/mlrun/serving/v1_serving.py\", line 136, in nuclio_serving_init\n    model.load()\n  File \"/opt/nuclio/bert_sentiment_analysis_serving.py\", line 36, in load\n    model.load_state_dict(torch.load(model_file, map_location=device))\n  File \"/opt/conda/lib/python3.7/site-packages/torch/nn/modules/module.py\", line 1052, in load_state_dict\n    self.__class__.__name__, \"\n\t\".join(error_msgs)))\nRuntimeError: Error(s) in loading state_dict for BertSentimentClassifier:\n\tMissing key(s) in state_dict: \"bert.embeddings.position_ids\". \n\" || worker_id=\"0\"]",
     "output_type": "error",
     "traceback": [
      "\u001b[0;31m---------------------------------------------------------------------------\u001b[0m",
      "\u001b[0;31mRunError\u001b[0m                                  Traceback (most recent call last)",
      "\u001b[0;32m<ipython-input-8-5716dc5bd390>\u001b[0m in \u001b[0;36m<module>\u001b[0;34m\u001b[0m\n\u001b[0;32m----> 1\u001b[0;31m \u001b[0maddr\u001b[0m \u001b[0;34m=\u001b[0m \u001b[0mfn\u001b[0m\u001b[0;34m.\u001b[0m\u001b[0mdeploy\u001b[0m\u001b[0;34m(\u001b[0m\u001b[0mproject\u001b[0m\u001b[0;34m=\u001b[0m\u001b[0;34m'nlp-servers'\u001b[0m\u001b[0;34m)\u001b[0m\u001b[0;34m\u001b[0m\u001b[0;34m\u001b[0m\u001b[0m\n\u001b[0m",
      "\u001b[0;32m~/.pythonlibs/jupyter/lib/python3.7/site-packages/mlrun/runtimes/function.py\u001b[0m in \u001b[0;36mdeploy\u001b[0;34m(self, dashboard, project, tag, verbose)\u001b[0m\n\u001b[1;32m    286\u001b[0m             \u001b[0;32mif\u001b[0m \u001b[0mstate\u001b[0m \u001b[0;34m!=\u001b[0m \u001b[0;34m\"ready\"\u001b[0m\u001b[0;34m:\u001b[0m\u001b[0;34m\u001b[0m\u001b[0;34m\u001b[0m\u001b[0m\n\u001b[1;32m    287\u001b[0m                 \u001b[0mlogger\u001b[0m\u001b[0;34m.\u001b[0m\u001b[0merror\u001b[0m\u001b[0;34m(\u001b[0m\u001b[0;34m\"Nuclio function failed to deploy\"\u001b[0m\u001b[0;34m)\u001b[0m\u001b[0;34m\u001b[0m\u001b[0;34m\u001b[0m\u001b[0m\n\u001b[0;32m--> 288\u001b[0;31m                 \u001b[0;32mraise\u001b[0m \u001b[0mRunError\u001b[0m\u001b[0;34m(\u001b[0m\u001b[0;34mf\"cannot deploy {text}\"\u001b[0m\u001b[0;34m)\u001b[0m\u001b[0;34m\u001b[0m\u001b[0;34m\u001b[0m\u001b[0m\n\u001b[0m\u001b[1;32m    289\u001b[0m \u001b[0;34m\u001b[0m\u001b[0m\n\u001b[1;32m    290\u001b[0m             \u001b[0;32mif\u001b[0m \u001b[0mself\u001b[0m\u001b[0;34m.\u001b[0m\u001b[0mstatus\u001b[0m\u001b[0;34m.\u001b[0m\u001b[0maddress\u001b[0m\u001b[0;34m:\u001b[0m\u001b[0;34m\u001b[0m\u001b[0;34m\u001b[0m\u001b[0m\n",
      "\u001b[0;31mRunError\u001b[0m: cannot deploy Failed to deploy. Details:\n/opt/conda/lib/python3.7/site-packages/torch/cuda/__init__.py:52: UserWarning: CUDA initialization: Found no NVIDIA driver on your system. Please check that you have an NVIDIA GPU and installed a driver from http://www.nvidia.com/Download/index.aspx (Triggered internally at  /opt/conda/conda-bld/pytorch_1603729006826/work/c10/cuda/CUDAFunctions.cpp:100.)\n  return torch._C._cuda_getDeviceCount() > 0\n/opt/conda/lib/python3.7/site-packages/torch/cuda/__init__.py:52: UserWarning: CUDA initialization: Found no NVIDIA driver on your system. Please check that you have an NVIDIA GPU and installed a driver from http://www.nvidia.com/Download/index.aspx (Triggered internally at  /opt/conda/conda-bld/pytorch_1603729006826/work/c10/cuda/CUDAFunctions.cpp:100.)\n  return torch._C._cuda_getDeviceCount() > 0\n/opt/conda/lib/python3.7/site-packages/torch/cuda/__init__.py:52: UserWarning: CUDA initialization: Found no NVIDIA driver on your system. Please check that you have an NVIDIA GPU and installed a driver from http://www.nvidia.com/Download/index.aspx (Triggered internally at  /opt/conda/conda-bld/pytorch_1603729006826/work/c10/cuda/CUDAFunctions.cpp:100.)\n  return torch._C._cuda_getDeviceCount() > 0\n/opt/conda/lib/python3.7/site-packages/torch/cuda/__init__.py:52: UserWarning: CUDA initialization: Found no NVIDIA driver on your system. Please check that you have an NVIDIA GPU and installed a driver from http://www.nvidia.com/Download/index.aspx (Triggered internally at  /opt/conda/conda-bld/pytorch_1603729006826/work/c10/cuda/CUDAFunctions.cpp:100.)\n  return torch._C._cuda_getDeviceCount() > 0\n/opt/conda/lib/python3.7/site-packages/torch/cuda/__init__.py:52: UserWarning: CUDA initialization: Found no NVIDIA driver on your system. Please check that you have an NVIDIA GPU and installed a driver from http://www.nvidia.com/Download/index.aspx (Triggered internally at  /opt/conda/conda-bld/pytorch_1603729006826/work/c10/cuda/CUDAFunctions.cpp:100.)\n  return torch._C._cuda_getDeviceCount() > 0\n/opt/conda/lib/python3.7/site-packages/torch/cuda/__init__.py:52: UserWarning: CUDA initialization: Found no NVIDIA driver on your system. Please check that you have an NVIDIA GPU and installed a driver from http://www.nvidia.com/Download/index.aspx (Triggered internally at  /opt/conda/conda-bld/pytorch_1603729006826/work/c10/cuda/CUDAFunctions.cpp:100.)\n  return torch._C._cuda_getDeviceCount() > 0\n/opt/conda/lib/python3.7/site-packages/torch/cuda/__init__.py:52: UserWarning: CUDA initialization: Found no NVIDIA driver on your system. Please check that you have an NVIDIA GPU and installed a driver from http://www.nvidia.com/Download/index.aspx (Triggered internally at  /opt/conda/conda-bld/pytorch_1603729006826/work/c10/cuda/CUDAFunctions.cpp:100.)\n  return torch._C._cuda_getDeviceCount() > 0\n/opt/conda/lib/python3.7/site-packages/torch/cuda/__init__.py:52: UserWarning: CUDA initialization: Found no NVIDIA driver on your system. Please check that you have an NVIDIA GPU and installed a driver from http://www.nvidia.com/Download/index.aspx (Triggered internally at  /opt/conda/conda-bld/pytorch_1603729006826/work/c10/cuda/CUDAFunctions.cpp:100.)\n  return torch._C._cuda_getDeviceCount() > 0\n\rDownloading:   0%|          | 0.00/213k [00:00<?, ?B/s]\rDownloading:   4%|▍         | 8.19k/213k [00:00<00:03, 59.0kB/s]\rDownloading:  10%|▉         | 20.5k/213k [00:00<00:02, 65.6kB/s]\rDownloading:  17%|█▋        | 36.9k/213k [00:00<00:02, 75.0kB/s]\rDownloading:  21%|██        | 45.1k/213k [00:00<00:02, 68.8kB/s]\rDownloading:  31%|███       | 65.5k/213k [00:00<00:01, 81.8kB/s]\rDownloading:  38%|███▊      | 81.9k/213k [00:00<00:01, 89.5kB/s]\rDownloading:  46%|████▌     | 98.3k/213k [00:00<00:01, 96.4kB/s]\rDownloading:  54%|█████▎    | 115k/213k [00:01<00:00, 102kB/s]  \rDownloading:  63%|██████▎   | 135k/213k [00:01<00:00, 112kB/s]\rDownloading:  71%|███████   | 152k/213k [00:01<00:00, 113kB/s]\rDownloading:  81%|████████  | 172k/213k [00:01<00:00, 121kB/s]\rDownloading:  90%|█████████ | 193k/213k [00:01<00:00, 127kB/s]\rDownloading: 100%|██████████| 213k/213k [00:01<00:00, 126kB/s]\n\rDownloading:   0%|          | 0.00/433 [00:00<?, ?B/s]\rDownloading: 100%|██████████| 433/433 [00:00<00:00, 292kB/s]\n\rDownloading:   0%|          | 0.00/436M [00:00<?, ?B/s]\rDownloading:   1%|          | 5.00M/436M [00:00<00:08, 50.0MB/s]\rDownloading:   2%|▏         | 10.3M/436M [00:00<00:08, 51.0MB/s]\rDownloading:   4%|▎         | 15.7M/436M [00:00<00:08, 51.7MB/s]\rDownloading:   5%|▍         | 21.1M/436M [00:00<00:07, 52.4MB/s]\rDownloading:   6%|▌         | 26.5M/436M [00:00<00:07, 52.8MB/s]\rDownloading:   7%|▋         | 31.9M/436M [00:00<00:07, 53.2MB/s]\rDownloading:   9%|▊         | 37.2M/436M [00:00<00:07, 53.3MB/s]\rDownloading:  10%|▉         | 42.6M/436M [00:00<00:07, 53.4MB/s]\rDownloading:  11%|█         | 48.0M/436M [00:00<00:07, 53.5MB/s]\rDownloading:  12%|█▏        | 53.4M/436M [00:01<00:07, 53.6MB/s]\rDownloading:  13%|█▎        | 58.7M/436M [00:01<00:07, 53.4MB/s]\rDownloading:  15%|█▍        | 64.0M/436M [00:01<00:06, 53.5MB/s]\rDownloading:  16%|█▌        | 69.4M/436M [00:01<00:06, 53.5MB/s]\rDownloading:  17%|█▋        | 74.8M/436M [00:01<00:06, 53.6MB/s]\rDownloading:  18%|█▊        | 80.2M/436M [00:01<00:06, 53.8MB/s]\rDownloading:  20%|█▉        | 85.6M/436M [00:01<00:06, 53.7MB/s]\rDownloading:  21%|██        | 90.9M/436M [00:01<00:06, 53.7MB/s]\rDownloading:  22%|██▏       | 96.3M/436M [00:01<00:06, 53.6MB/s]\rDownloading:  23%|██▎       | 102M/436M [00:01<00:06, 53.5MB/s] \rDownloading:  25%|██▍       | 107M/436M [00:02<00:06, 53.5MB/s]\rDownloading:  26%|██▌       | 112M/436M [00:02<00:06, 53.5MB/s]\rDownloading:  27%|██▋       | 118M/436M [00:02<00:05, 53.4MB/s]\rDownloading:  28%|██▊       | 123M/436M [00:02<00:05, 53.4MB/s]\rDownloading:  29%|██▉       | 128M/436M [00:02<00:05, 53.5MB/s]\rDownloading:  31%|███       | 134M/436M [00:02<00:05, 53.5MB/s]\rDownloading:  32%|███▏      | 139M/436M [00:02<00:05, 53.5MB/s]\rDownloading:  33%|███▎      | 144M/436M [00:02<00:05, 53.3MB/s]\rDownloading:  34%|███▍      | 150M/436M [00:02<00:05, 53.4MB/s]\rDownloading:  36%|███▌      | 155M/436M [00:02<00:05, 53.5MB/s]\rDownloading:  37%|███▋      | 161M/436M [00:03<00:05, 53.6MB/s]\rDownloading:  38%|███▊      | 166M/436M [00:03<00:05, 53.6MB/s]\rDownloading:  39%|███▉      | 171M/436M [00:03<00:04, 53.6MB/s]\rDownloading:  41%|████      | 177M/436M [00:03<00:04, 53.6MB/s]\rDownloading:  42%|████▏     | 182M/436M [00:03<00:04, 53.5MB/s]\rDownloading:  43%|████▎     | 187M/436M [00:03<00:04, 53.5MB/s]\rDownloading:  44%|████▍     | 193M/436M [00:03<00:04, 53.5MB/s]\rDownloading:  45%|████▌     | 198M/436M [00:03<00:04, 53.1MB/s]\rDownloading:  47%|████▋     | 203M/436M [00:03<00:04, 53.1MB/s]\rDownloading:  48%|████▊     | 209M/436M [00:03<00:04, 53.2MB/s]\rDownloading:  49%|████▉     | 214M/436M [00:04<00:04, 53.3MB/s]\rDownloading:  50%|█████     | 219M/436M [00:04<00:04, 53.3MB/s]\rDownloading:  52%|█████▏    | 225M/436M [00:04<00:03, 53.3MB/s]\rDownloading:  53%|█████▎    | 230M/436M [00:04<00:03, 53.4MB/s]\rDownloading:  54%|█████▍    | 236M/436M [00:04<00:03, 53.5MB/s]\rDownloading:  55%|█████▌    | 241M/436M [00:04<00:03, 53.5MB/s]\rDownloading:  57%|█████▋    | 246M/436M [00:04<00:03, 53.6MB/s]\rDownloading:  58%|█████▊    | 252M/436M [00:04<00:03, 53.6MB/s]\rDownloading:  59%|█████▉    | 257M/436M [00:04<00:03, 53.6MB/s]\rDownloading:  60%|██████    | 262M/436M [00:04<00:03, 53.6MB/s]\rDownloading:  61%|██████▏   | 268M/436M [00:05<00:03, 53.5MB/s]\rDownloading:  63%|██████▎   | 273M/436M [00:05<00:03, 53.6MB/s]\rDownloading:  64%|██████▍   | 278M/436M [00:05<00:02, 53.6MB/s]\rDownloading:  65%|██████▌   | 284M/436M [00:05<00:02, 53.7MB/s]\rDownloading:  66%|██████▋   | 289M/436M [00:05<00:02, 53.7MB/s]\rDownloading:  68%|██████▊   | 295M/436M [00:05<00:02, 53.7MB/s]\rDownloading:  69%|██████▉   | 300M/436M [00:05<00:02, 53.7MB/s]\rDownloading:  70%|███████   | 305M/436M [00:05<00:02, 53.7MB/s]\rDownloading:  71%|███████▏  | 311M/436M [00:05<00:02, 53.7MB/s]\rDownloading:  73%|███████▎  | 316M/436M [00:05<00:02, 53.7MB/s]\rDownloading:  74%|███████▍  | 321M/436M [00:06<00:02, 53.6MB/s]\rDownloading:  75%|███████▍  | 327M/436M [00:06<00:02, 53.5MB/s]\rDownloading:  76%|███████▌  | 332M/436M [00:06<00:01, 53.7MB/s]\rDownloading:  77%|███████▋  | 338M/436M [00:06<00:01, 53.8MB/s]\rDownloading:  79%|███████▊  | 343M/436M [00:06<00:01, 53.8MB/s]\rDownloading:  80%|███████▉  | 348M/436M [00:06<00:01, 53.8MB/s]\rDownloading:  81%|████████  | 354M/436M [00:06<00:01, 54.0MB/s]\rDownloading:  82%|████████▏ | 359M/436M [00:06<00:01, 53.9MB/s]\rDownloading:  84%|████████▎ | 365M/436M [00:06<00:01, 53.9MB/s]\rDownloading:  85%|████████▍ | 370M/436M [00:06<00:01, 53.3MB/s]\rDownloading:  86%|████████▌ | 375M/436M [00:07<00:01, 53.4MB/s]\rDownloading:  87%|████████▋ | 381M/436M [00:07<00:01, 53.5MB/s]\rDownloading:  89%|████████▊ | 386M/436M [00:07<00:00, 53.6MB/s]\rDownloading:  90%|████████▉ | 392M/436M [00:07<00:00, 53.6MB/s]\rDownloading:  91%|█████████ | 397M/436M [00:07<00:00, 53.6MB/s]\rDownloading:  92%|█████████▏| 402M/436M [00:07<00:00, 53.7MB/s]\rDownloading:  94%|█████████▎| 408M/436M [00:07<00:00, 53.8MB/s]\rDownloading:  95%|█████████▍| 413M/436M [00:07<00:00, 53.9MB/s]\rDownloading:  96%|█████████▌| 418M/436M [00:07<00:00, 53.9MB/s]\rDownloading:  97%|█████████▋| 424M/436M [00:07<00:00, 53.9MB/s]\rDownloading:  99%|█████████▊| 429M/436M [00:08<00:00, 53.9MB/s]\rDownloading: 100%|█████████▉| 435M/436M [00:08<00:00, 54.0MB/s]\rDownloading: 100%|██████████| 436M/436M [00:08<00:00, 53.6MB/s]\nException raised while running init_context [worker_id=\"0\"]\nCaught unhandled exception while initializing [err=\"Error(s) in loading state_dict for BertSentimentClassifier:\n\tMissing key(s) in state_dict: \"bert.embeddings.position_ids\". \" || traceback=\"Traceback (most recent call last):\n  File \"/opt/nuclio/_nuclio_wrapper.py\", line 350, in run_wrapper\n    args.trigger_name)\n  File \"/opt/nuclio/_nuclio_wrapper.py\", line 80, in __init__\n    getattr(entrypoint_module, 'init_context')(self._context)\n  File \"/opt/nuclio/bert_sentiment_analysis_serving.py\", line 51, in init_context\n    nuclio_init_hook(context, globals(), 'serving')\n  File \"/opt/conda/lib/python3.7/site-packages/mlrun/runtimes/nuclio.py\", line 29, in nuclio_init_hook\n    nuclio_serving_init(context, data)\n  File \"/opt/conda/lib/python3.7/site-packages/mlrun/serving/v1_serving.py\", line 136, in nuclio_serving_init\n    model.load()\n  File \"/opt/nuclio/bert_sentiment_analysis_serving.py\", line 36, in load\n    model.load_state_dict(torch.load(model_file, map_location=device))\n  File \"/opt/conda/lib/python3.7/site-packages/torch/nn/modules/module.py\", line 1052, in load_state_dict\n    self.__class__.__name__, \"\n\t\".join(error_msgs)))\nRuntimeError: Error(s) in loading state_dict for BertSentimentClassifier:\n\tMissing key(s) in state_dict: \"bert.embeddings.position_ids\". \n\" || worker_id=\"0\"]"
     ]
    }
   ],
   "source": [
    "addr = fn.deploy(project='nlp-servers')"
   ]
  },
  {
   "cell_type": "markdown",
   "metadata": {},
   "source": [
    "## Remote example\n",
    "We will send a sentence to the model server via HTTP request. Note that the url below uses model server notation that directs our event to the predict function."
   ]
  },
  {
   "cell_type": "code",
   "execution_count": null,
   "metadata": {},
   "outputs": [],
   "source": [
    "import json\n",
    "\n",
    "event_data = {'instances': ['I had a somewhat ok experience buying at that store.']}\n",
    "\n",
    "resp = requests.put(addr + '/bert_classifier_v1/predict', json=json.dumps(event_data))"
   ]
  },
  {
   "cell_type": "code",
   "execution_count": null,
   "metadata": {},
   "outputs": [],
   "source": [
    "print(resp.text)"
   ]
  },
  {
   "cell_type": "markdown",
   "metadata": {},
   "source": [
    "The model server classified the sentence as neutral. "
   ]
  }
 ],
 "metadata": {
  "kernelspec": {
   "display_name": "Python 3",
   "language": "python",
   "name": "python3"
  },
  "language_info": {
   "codemirror_mode": {
    "name": "ipython",
    "version": 3
   },
   "file_extension": ".py",
   "mimetype": "text/x-python",
   "name": "python",
   "nbconvert_exporter": "python",
   "pygments_lexer": "ipython3",
   "version": "3.7.6"
  }
 },
 "nbformat": 4,
 "nbformat_minor": 4
}
